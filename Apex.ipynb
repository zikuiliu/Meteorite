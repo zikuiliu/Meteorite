{
 "cells": [
  {
   "cell_type": "code",
   "execution_count": 7,
   "metadata": {},
   "outputs": [],
   "source": [
    "from pycalphad import Database, equilibrium, variables as v\n",
    "from pycalphad.core.utils import get_pure_elements\n",
    "\n",
    "dbf = Database('SSUB4-APEX.TDB')"
   ]
  },
  {
   "cell_type": "code",
   "execution_count": 8,
   "metadata": {
    "scrolled": true
   },
   "outputs": [
    {
     "ename": "KeyError",
     "evalue": "'H'",
     "output_type": "error",
     "traceback": [
      "\u001b[0;31m---------------------------------------------------------------------------\u001b[0m",
      "\u001b[0;31mKeyError\u001b[0m                                  Traceback (most recent call last)",
      "\u001b[0;32m<ipython-input-8-21c8698255c1>\u001b[0m in \u001b[0;36m<module>\u001b[0;34m()\u001b[0m\n\u001b[1;32m     16\u001b[0m               v.W('TI'): 3.0070E-03, v.W('V'): 3.2184E-05, v.W('ZN'): 1.0728E-06}\n\u001b[1;32m     17\u001b[0m \u001b[0;34m\u001b[0m\u001b[0m\n\u001b[0;32m---> 18\u001b[0;31m \u001b[0mconds\u001b[0m \u001b[0;34m=\u001b[0m \u001b[0mv\u001b[0m\u001b[0;34m.\u001b[0m\u001b[0mget_mole_fractions\u001b[0m\u001b[0;34m(\u001b[0m\u001b[0mmass_fracs\u001b[0m\u001b[0;34m,\u001b[0m \u001b[0;34m'Fe'\u001b[0m\u001b[0;34m,\u001b[0m \u001b[0mdbf\u001b[0m\u001b[0;34m)\u001b[0m\u001b[0;34m\u001b[0m\u001b[0;34m\u001b[0m\u001b[0m\n\u001b[0m\u001b[1;32m     19\u001b[0m \u001b[0;34m\u001b[0m\u001b[0m\n\u001b[1;32m     20\u001b[0m \u001b[0mconds\u001b[0m\u001b[0;34m[\u001b[0m\u001b[0mv\u001b[0m\u001b[0;34m.\u001b[0m\u001b[0mT\u001b[0m\u001b[0;34m]\u001b[0m \u001b[0;34m=\u001b[0m \u001b[0;34m(\u001b[0m\u001b[0;36m300\u001b[0m\u001b[0;34m,\u001b[0m \u001b[0;36m2000\u001b[0m\u001b[0;34m,\u001b[0m \u001b[0;36m5\u001b[0m\u001b[0;34m)\u001b[0m\u001b[0;34m\u001b[0m\u001b[0;34m\u001b[0m\u001b[0m\n",
      "\u001b[0;32m/gpfs/group/dml129/default/matse_580/conda_env/lib/python3.7/site-packages/pycalphad/variables.py\u001b[0m in \u001b[0;36mget_mole_fractions\u001b[0;34m(mass_fractions, dependent_species, pure_element_mass_dict)\u001b[0m\n\u001b[1;32m    289\u001b[0m     \u001b[0mspecies_mass_dict\u001b[0m \u001b[0;34m=\u001b[0m \u001b[0;34m{\u001b[0m\u001b[0;34m}\u001b[0m\u001b[0;34m\u001b[0m\u001b[0;34m\u001b[0m\u001b[0m\n\u001b[1;32m    290\u001b[0m     \u001b[0;32mfor\u001b[0m \u001b[0mspecies\u001b[0m \u001b[0;32min\u001b[0m \u001b[0mall_species\u001b[0m\u001b[0;34m:\u001b[0m\u001b[0;34m\u001b[0m\u001b[0;34m\u001b[0m\u001b[0m\n\u001b[0;32m--> 291\u001b[0;31m         \u001b[0mspecies_mass_dict\u001b[0m\u001b[0;34m[\u001b[0m\u001b[0mspecies\u001b[0m\u001b[0;34m]\u001b[0m \u001b[0;34m=\u001b[0m \u001b[0msum\u001b[0m\u001b[0;34m(\u001b[0m\u001b[0;34m[\u001b[0m\u001b[0mpure_element_mass_dict\u001b[0m\u001b[0;34m[\u001b[0m\u001b[0mpe\u001b[0m\u001b[0;34m]\u001b[0m\u001b[0;34m*\u001b[0m\u001b[0mnatoms\u001b[0m \u001b[0;32mfor\u001b[0m \u001b[0mpe\u001b[0m\u001b[0;34m,\u001b[0m \u001b[0mnatoms\u001b[0m \u001b[0;32min\u001b[0m \u001b[0mspecies\u001b[0m\u001b[0;34m.\u001b[0m\u001b[0mconstituents\u001b[0m\u001b[0;34m.\u001b[0m\u001b[0mitems\u001b[0m\u001b[0;34m(\u001b[0m\u001b[0;34m)\u001b[0m\u001b[0;34m]\u001b[0m\u001b[0;34m)\u001b[0m\u001b[0;34m\u001b[0m\u001b[0;34m\u001b[0m\u001b[0m\n\u001b[0m\u001b[1;32m    292\u001b[0m \u001b[0;34m\u001b[0m\u001b[0m\n\u001b[1;32m    293\u001b[0m     \u001b[0;31m# add dependent species\u001b[0m\u001b[0;34m\u001b[0m\u001b[0;34m\u001b[0m\u001b[0;34m\u001b[0m\u001b[0m\n",
      "\u001b[0;32m/gpfs/group/dml129/default/matse_580/conda_env/lib/python3.7/site-packages/pycalphad/variables.py\u001b[0m in \u001b[0;36m<listcomp>\u001b[0;34m(.0)\u001b[0m\n\u001b[1;32m    289\u001b[0m     \u001b[0mspecies_mass_dict\u001b[0m \u001b[0;34m=\u001b[0m \u001b[0;34m{\u001b[0m\u001b[0;34m}\u001b[0m\u001b[0;34m\u001b[0m\u001b[0;34m\u001b[0m\u001b[0m\n\u001b[1;32m    290\u001b[0m     \u001b[0;32mfor\u001b[0m \u001b[0mspecies\u001b[0m \u001b[0;32min\u001b[0m \u001b[0mall_species\u001b[0m\u001b[0;34m:\u001b[0m\u001b[0;34m\u001b[0m\u001b[0;34m\u001b[0m\u001b[0m\n\u001b[0;32m--> 291\u001b[0;31m         \u001b[0mspecies_mass_dict\u001b[0m\u001b[0;34m[\u001b[0m\u001b[0mspecies\u001b[0m\u001b[0;34m]\u001b[0m \u001b[0;34m=\u001b[0m \u001b[0msum\u001b[0m\u001b[0;34m(\u001b[0m\u001b[0;34m[\u001b[0m\u001b[0mpure_element_mass_dict\u001b[0m\u001b[0;34m[\u001b[0m\u001b[0mpe\u001b[0m\u001b[0;34m]\u001b[0m\u001b[0;34m*\u001b[0m\u001b[0mnatoms\u001b[0m \u001b[0;32mfor\u001b[0m \u001b[0mpe\u001b[0m\u001b[0;34m,\u001b[0m \u001b[0mnatoms\u001b[0m \u001b[0;32min\u001b[0m \u001b[0mspecies\u001b[0m\u001b[0;34m.\u001b[0m\u001b[0mconstituents\u001b[0m\u001b[0;34m.\u001b[0m\u001b[0mitems\u001b[0m\u001b[0;34m(\u001b[0m\u001b[0;34m)\u001b[0m\u001b[0;34m]\u001b[0m\u001b[0;34m)\u001b[0m\u001b[0;34m\u001b[0m\u001b[0;34m\u001b[0m\u001b[0m\n\u001b[0m\u001b[1;32m    292\u001b[0m \u001b[0;34m\u001b[0m\u001b[0m\n\u001b[1;32m    293\u001b[0m     \u001b[0;31m# add dependent species\u001b[0m\u001b[0;34m\u001b[0m\u001b[0;34m\u001b[0m\u001b[0;34m\u001b[0m\u001b[0m\n",
      "\u001b[0;31mKeyError\u001b[0m: 'H'"
     ]
    }
   ],
   "source": [
    "phases = list(set(dbf.phases.keys()) - {'GP_MAT'})\n",
    "\n",
    "# v.W('H'): 9.8698E-01,\n",
    "# v.W('FE'): 1.3946E-04,\n",
    "\n",
    "# elements = get_pure_elements(dbf, '*')\n",
    "\n",
    "elements = ['O','NA','MG','AL','SI','CA','TI','V','CR','MN','FE','CO','CU','ZN','P','S','K','NI','H','C']\n",
    "\n",
    "mass_fracs = {v.W('AL'): 1.1693E-04, v.W('C'): 2.8872E-03,\n",
    "              v.W('CA'): 1.4708E-03, v.W('CO'): 1.0728E-05, v.W('CR'): 8.5824E-06,\n",
    "              v.W('CU'): 4.2912E-06, v.W('H'): 9.8698E-01,\n",
    "              v.W('K'): 1.0728E-06, v.W('MG'): 5.1494E-05, v.W('MN'): 2.1456E-06,\n",
    "              v.W('NA'): 1.0728E-05, v.W('NI'): 1.0728E-06, v.W('O'): 4.1410E-03,\n",
    "              v.W('P'): 1.0728E-06, v.W('S'): 1.0728E-06, v.W('SI'): 1.1297E-03,\n",
    "              v.W('TI'): 3.0070E-03, v.W('V'): 3.2184E-05, v.W('ZN'): 1.0728E-06}\n",
    "\n",
    "conds = v.get_mole_fractions(mass_fracs, 'Fe', dbf)\n",
    "\n",
    "conds[v.T] = (300, 2000, 5)\n",
    "conds[v.P] = 1e1\n",
    "conds[v.N] = 1\n",
    "\n",
    "\n",
    "eq = equilibrium(dbf, elements, phases, conds, calc_opts={'pdens': 50})"
   ]
  },
  {
   "cell_type": "code",
   "execution_count": null,
   "metadata": {},
   "outputs": [],
   "source": [
    "import matplotlib.pyplot as plt\n",
    "import numpy as np\n",
    "from pycalphad.plot.utils import phase_legend\n",
    "phases = sorted(set(eq.Phase.values.flatten()) - {''})\n",
    "phase_handles, phasemap = phase_legend(phases)\n",
    "\n",
    "plt.gca().set_title('Phase fractions vs T')\n",
    "plt.gca().set_xlabel('Temperature, K')\n",
    "plt.gca().set_ylabel('Phase Fraction')\n",
    "plt.gca().set_ylim((0,1.1))\n",
    "plt.gca().set_xlim((300, 2000))\n",
    "\n",
    "for name in phases:\n",
    "    phase_indices = np.nonzero(eq.Phase.values == name)\n",
    "    plt.scatter(np.take(eq['T'].values, phase_indices[2]), eq.NP.values[phase_indices], color=phasemap[name])\n",
    "plt.gca().legend(phase_handles, phases, loc='upper left')"
   ]
  },
  {
   "cell_type": "code",
   "execution_count": null,
   "metadata": {},
   "outputs": [],
   "source": [
    "plt.gca().set_title('Phase compositions vs T [Gas Phase]')\n",
    "plt.gca().set_xlabel('Temperature')\n",
    "plt.gca().set_ylabel('Mole Fraction of Species')\n",
    "plt.gca().set_ylim((0,1.1))\n",
    "plt.gca().set_xlim((300, 2000))\n",
    "elements = ['FE', 'CR', 'NI', 'C', 'SI']\n",
    "phase_handles, phasemap = phase_legend(elements)\n",
    "for name in ['GAS']:\n",
    "    phase_indices = np.nonzero(eq.Phase.values == name)\n",
    "    for el in elements:\n",
    "        plt.plot(np.take(eq['T'].values, phase_indices[2]), eq.X.sel(component=el).values[phase_indices], color=phasemap[el])\n",
    "plt.gca().legend(phase_handles, elements, loc='upper left')"
   ]
  },
  {
   "cell_type": "code",
   "execution_count": null,
   "metadata": {},
   "outputs": [],
   "source": []
  }
 ],
 "metadata": {
  "kernelspec": {
   "display_name": "Python 3",
   "language": "python",
   "name": "python3"
  },
  "language_info": {
   "codemirror_mode": {
    "name": "ipython",
    "version": 3
   },
   "file_extension": ".py",
   "mimetype": "text/x-python",
   "name": "python",
   "nbconvert_exporter": "python",
   "pygments_lexer": "ipython3",
   "version": "3.7.8"
  }
 },
 "nbformat": 4,
 "nbformat_minor": 4
}
